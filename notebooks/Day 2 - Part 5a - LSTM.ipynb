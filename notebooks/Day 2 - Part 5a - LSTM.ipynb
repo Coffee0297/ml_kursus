{
 "cells": [
  {
   "cell_type": "code",
   "execution_count": null,
   "id": "49124a04",
   "metadata": {},
   "outputs": [],
   "source": [
    "import numpy as np\n",
    "import pandas as pd\n",
    "import matplotlib.pyplot as plt\n",
    "import pickle\n",
    "\n",
    "# Scikit-Learn\n",
    "from sklearn.metrics import mean_absolute_error, mean_squared_error, r2_score, mean_absolute_percentage_error\n",
    "\n",
    "# PyTorch\n",
    "import torch\n",
    "import torch.nn as nn\n",
    "\n",
    "# PyTorch Lightning\n",
    "import pytorch_lightning as pl\n",
    "\n",
    "# From src\n",
    "from src.inference import format_predictions, calculate_metrics\n",
    "from src.models import LongShortTermMemory\n",
    "from src.model_training import TrainingLoop"
   ]
  },
  {
   "cell_type": "code",
   "execution_count": null,
   "id": "2687a19e",
   "metadata": {},
   "outputs": [],
   "source": [
    "device = \"cuda\" if torch.cuda.is_available() else \"cpu\"\n",
    "print(f\"{device} is available.\")"
   ]
  },
  {
   "cell_type": "code",
   "execution_count": null,
   "id": "5f1d4545",
   "metadata": {},
   "outputs": [],
   "source": [
    "# Seed\n",
    "seed = 6715\n",
    "torch.manual_seed(seed)\n",
    "torch.cuda.manual_seed(seed)\n",
    "torch.cuda.manual_seed_all(seed)\n",
    "np.random.seed(seed)\n",
    "pl.seed_everything(seed)"
   ]
  },
  {
   "cell_type": "code",
   "execution_count": null,
   "id": "5550eb9a",
   "metadata": {},
   "outputs": [],
   "source": [
    "# Config\n",
    "AVAIL_GPUS = min(1, torch.cuda.device_count())\n",
    "BATCH_SIZE = 256 if AVAIL_GPUS else 32\n",
    "EPOCHS = 100 if AVAIL_GPUS else 20"
   ]
  },
  {
   "cell_type": "code",
   "execution_count": null,
   "id": "ef4dad34",
   "metadata": {},
   "outputs": [],
   "source": [
    "train = torch.load(\"../data/train.pt\")\n",
    "val = torch.load(\"../data/val.pt\")\n",
    "test = torch.load(\"../data/test.pt\")"
   ]
  },
  {
   "cell_type": "markdown",
   "id": "5f109488",
   "metadata": {},
   "source": [
    "# Training the Network"
   ]
  },
  {
   "cell_type": "code",
   "execution_count": null,
   "id": "c9b8fcbb",
   "metadata": {},
   "outputs": [],
   "source": [
    "# Hyperparameters\n",
    "input_size = next(iter(train))[0].shape[0]\n",
    "output_size = next(iter(train))[1].shape[0]\n",
    "hidden_size = 64\n",
    "num_layers = 2\n",
    "dropout_prob = 0.1\n",
    "learning_rate = 1e-2\n",
    "\n",
    "optimizer = 'Adam'\n",
    "loss_fn = nn.MSELoss()"
   ]
  },
  {
   "cell_type": "code",
   "execution_count": null,
   "id": "948cd7e1",
   "metadata": {},
   "outputs": [],
   "source": [
    "# Build model\n",
    "model = LongShortTermMemory(\n",
    "    hidden_size = hidden_size,\n",
    "    num_rnn_layers = num_layers,\n",
    "    input_size = input_size,\n",
    "    output_size = output_size,\n",
    "    dropout = dropout_prob,\n",
    "    device = device\n",
    "    )\n",
    "\n",
    "\n",
    "print(model)"
   ]
  },
  {
   "cell_type": "code",
   "execution_count": null,
   "id": "6dc591af",
   "metadata": {},
   "outputs": [],
   "source": [
    "train_loop = TrainingLoop(\n",
    "            model=model, \n",
    "            datasets=(train, val, test),\n",
    "            learning_rate=learning_rate,\n",
    "            batch_size=BATCH_SIZE,\n",
    "            optimizer=optimizer,\n",
    "            accelerator=device,\n",
    "            train_shuffle=False,\n",
    "            num_dl_workers=2\n",
    "        )"
   ]
  },
  {
   "cell_type": "code",
   "execution_count": null,
   "id": "64598881",
   "metadata": {},
   "outputs": [],
   "source": [
    "trainer = pl.Trainer(\n",
    "    accelerator=device,\n",
    "    devices=1,\n",
    "    min_epochs=1,\n",
    "    max_epochs=EPOCHS,\n",
    "    gradient_clip_val=0,\n",
    "    check_val_every_n_epoch=1,\n",
    "    val_check_interval=1.0\n",
    ")"
   ]
  },
  {
   "cell_type": "code",
   "execution_count": null,
   "id": "385c389b",
   "metadata": {
    "scrolled": false
   },
   "outputs": [],
   "source": [
    "# Run training\n",
    "trainer.fit(train_loop)"
   ]
  },
  {
   "cell_type": "markdown",
   "id": "3ede33e0",
   "metadata": {},
   "source": [
    "# Inference"
   ]
  },
  {
   "cell_type": "code",
   "execution_count": null,
   "id": "31a4eda8",
   "metadata": {},
   "outputs": [],
   "source": [
    "# Run predictions\n",
    "trainer.test(ckpt_path='best')"
   ]
  },
  {
   "cell_type": "code",
   "execution_count": null,
   "id": "861cd29c",
   "metadata": {},
   "outputs": [],
   "source": [
    "predictions, values = train_loop.predictions, train_loop.values\n",
    "#predictions = [tensor.cpu() for tensor in predictions]\n",
    "#values = [tensor.cpu() for tensor in values]\n",
    "\n",
    "preds = np.concatenate(predictions, axis=0)\n",
    "vals = np.concatenate(values, axis=0)\n",
    "\n",
    "scaler = pickle.load(open('../data/scaler.pkl', 'rb'))\n",
    "\n",
    "preds = scaler.inverse_transform(preds)\n",
    "vals = scaler.inverse_transform(vals)"
   ]
  },
  {
   "cell_type": "code",
   "execution_count": null,
   "id": "e50117b1",
   "metadata": {},
   "outputs": [],
   "source": [
    "target_cols = [f'load+{h}' for h in range(1, 25)]\n",
    "test_index = pd.date_range(\"2021-09-11 14:00:00\", \"2022-05-14 23:00:00\", freq='h')\n",
    "\n",
    "df_preds = pd.DataFrame(preds, columns=target_cols, index=test_index[:len(vals)])\n",
    "df_vals = pd.DataFrame(vals, columns=target_cols, index=test_index[:len(vals)])"
   ]
  },
  {
   "cell_type": "code",
   "execution_count": null,
   "id": "000c71ee",
   "metadata": {},
   "outputs": [],
   "source": [
    "print('TEST PERFORMANCE')\n",
    "print('RMSE:\\t', mean_squared_error(df_vals, df_preds)**0.5)\n",
    "print('MAE:\\t', mean_absolute_error(df_vals, df_preds))\n",
    "print('MAPE:\\t',mean_absolute_percentage_error(df_vals, df_preds) * 100)\n",
    "print('R^2:\\t', r2_score(df_vals, df_preds))"
   ]
  },
  {
   "cell_type": "code",
   "execution_count": null,
   "id": "87633e16",
   "metadata": {},
   "outputs": [],
   "source": [
    "forecast_time = '2021-09-11 14:00:00'\n",
    "plt.plot(df_preds.loc[forecast_time], label='Prediction')\n",
    "plt.plot(df_vals.loc[forecast_time], label='True')\n",
    "plt.legend()\n",
    "plt.grid()\n",
    "plt.title(f\"Forecast at: {forecast_time}\")\n",
    "plt.xticks(rotation=90)\n",
    "plt.show()"
   ]
  },
  {
   "cell_type": "code",
   "execution_count": null,
   "id": "45229478",
   "metadata": {},
   "outputs": [],
   "source": []
  }
 ],
 "metadata": {
  "kernelspec": {
   "display_name": "Python 3 (ipykernel)",
   "language": "python",
   "name": "python3"
  },
  "language_info": {
   "codemirror_mode": {
    "name": "ipython",
    "version": 3
   },
   "file_extension": ".py",
   "mimetype": "text/x-python",
   "name": "python",
   "nbconvert_exporter": "python",
   "pygments_lexer": "ipython3",
   "version": "3.10.8"
  }
 },
 "nbformat": 4,
 "nbformat_minor": 5
}

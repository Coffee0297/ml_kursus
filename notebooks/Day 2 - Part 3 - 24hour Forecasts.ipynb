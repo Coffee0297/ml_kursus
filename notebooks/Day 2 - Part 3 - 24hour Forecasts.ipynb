{
 "cells": [
  {
   "cell_type": "code",
   "execution_count": 1,
   "id": "49124a04",
   "metadata": {},
   "outputs": [],
   "source": [
    "import numpy as np\n",
    "import pandas as pd\n",
    "import matplotlib.pyplot as plt\n",
    "import pickle\n",
    "\n",
    "# Scikit-Learn\n",
    "from sklearn.metrics import mean_absolute_error, mean_squared_error, r2_score, mean_absolute_percentage_error\n",
    "\n",
    "# PyTorch\n",
    "import torch\n",
    "import torch.nn as nn\n",
    "\n",
    "# PyTorch Lightning\n",
    "import pytorch_lightning as pl\n",
    "\n",
    "# From src\n",
    "from src.inference import format_predictions, calculate_metrics\n",
    "from src.models import FullyConnectedNetwork\n",
    "from src.model_training import TrainingLoop"
   ]
  },
  {
   "cell_type": "code",
   "execution_count": 2,
   "id": "2687a19e",
   "metadata": {},
   "outputs": [
    {
     "name": "stdout",
     "output_type": "stream",
     "text": [
      "cpu is available.\n"
     ]
    }
   ],
   "source": [
    "device = \"cuda\" if torch.cuda.is_available() else \"cpu\"\n",
    "print(f\"{device} is available.\")"
   ]
  },
  {
   "cell_type": "code",
   "execution_count": 3,
   "id": "5f1d4545",
   "metadata": {},
   "outputs": [
    {
     "name": "stderr",
     "output_type": "stream",
     "text": [
      "Global seed set to 6715\n"
     ]
    },
    {
     "data": {
      "text/plain": [
       "6715"
      ]
     },
     "execution_count": 3,
     "metadata": {},
     "output_type": "execute_result"
    }
   ],
   "source": [
    "# Seed\n",
    "seed = 6715\n",
    "torch.manual_seed(seed)\n",
    "torch.cuda.manual_seed(seed)\n",
    "torch.cuda.manual_seed_all(seed)\n",
    "np.random.seed(seed)\n",
    "pl.seed_everything(seed)"
   ]
  },
  {
   "cell_type": "code",
   "execution_count": 4,
   "id": "5550eb9a",
   "metadata": {},
   "outputs": [],
   "source": [
    "# Config\n",
    "AVAIL_GPUS = min(1, torch.cuda.device_count())\n",
    "BATCH_SIZE = 256 if AVAIL_GPUS else 32\n",
    "EPOCHS = 100 if AVAIL_GPUS else 20"
   ]
  },
  {
   "cell_type": "code",
   "execution_count": 5,
   "id": "ef4dad34",
   "metadata": {},
   "outputs": [],
   "source": [
    "train = torch.load(\"../data/train.pt\")\n",
    "val = torch.load(\"../data/val.pt\")\n",
    "test = torch.load(\"../data/test.pt\")"
   ]
  },
  {
   "cell_type": "markdown",
   "id": "5f109488",
   "metadata": {},
   "source": [
    "# Training the Network"
   ]
  },
  {
   "cell_type": "code",
   "execution_count": 6,
   "id": "c9b8fcbb",
   "metadata": {},
   "outputs": [],
   "source": [
    "# Hyperparameters\n",
    "input_size = next(iter(train))[0].shape[0]\n",
    "output_size = next(iter(train))[1].shape[0]\n",
    "hidden_size = 128\n",
    "num_layers = 2\n",
    "dropout_prob = 0\n",
    "learning_rate = 1e-2\n",
    "activation_function = 'relu'\n",
    "\n",
    "optimizer = 'Adam'\n",
    "loss_fn = nn.MSELoss()"
   ]
  },
  {
   "cell_type": "markdown",
   "id": "a9d8913c",
   "metadata": {},
   "source": [
    "# Build model\n",
    "model = FullyConnectedNetwork(\n",
    "    hidden_size = hidden_size,\n",
    "    num_fcn_layers = num_layers,\n",
    "    input_size = input_size,\n",
    "    output_size = output_size,\n",
    "    activation_fnc = activation_function,\n",
    "    dropout = dropout_prob,\n",
    "    device = device\n",
    "    )\n",
    "\n",
    "\n",
    "print(model)"
   ]
  },
  {
   "cell_type": "code",
   "execution_count": 14,
   "id": "1b1e39f2",
   "metadata": {},
   "outputs": [],
   "source": [
    "class Model(nn.Module):\n",
    "\n",
    "    def __init__(self, input_size):\n",
    "        super().__init__()\n",
    "\n",
    "        self.input_size = input_size\n",
    "        self.activation = nn.ReLU\n",
    "        \n",
    "        self.flatten = nn.Flatten()\n",
    "        self.input_layer = nn.Sequential(nn.Linear(self.input_size, 64), self.activation())\n",
    "\n",
    "        self.hidden_block = nn.Sequential(\n",
    "                nn.Linear(64, 128),\n",
    "                self.activation(),\n",
    "                nn.Linear(128, 256),\n",
    "                self.activation(),\n",
    "                nn.Dropout(0.2),\n",
    "                nn.Linear(256, 128),\n",
    "                self.activation(),\n",
    "                nn.Dropout(0.2),\n",
    "        )\n",
    "        \n",
    "        self.output_layer = nn.Linear(128, 24)\n",
    "\n",
    "    def forward(self, x):\n",
    "        x = self.flatten(x)\n",
    "        x = self.input_layer(x)\n",
    "        x = self.hidden_block(x)\n",
    "        out = self.output_layer(x)\n",
    "        return out"
   ]
  },
  {
   "cell_type": "code",
   "execution_count": 15,
   "id": "9028c483",
   "metadata": {},
   "outputs": [],
   "source": [
    "model = Model(input_size=input_size)"
   ]
  },
  {
   "cell_type": "code",
   "execution_count": 16,
   "id": "6dc591af",
   "metadata": {},
   "outputs": [],
   "source": [
    "train_loop = TrainingLoop(\n",
    "            model=model, \n",
    "            datasets=(train, val, test),\n",
    "            learning_rate=learning_rate,\n",
    "            batch_size=BATCH_SIZE,\n",
    "            optimizer=optimizer,\n",
    "            accelerator=device,\n",
    "            train_shuffle=False,\n",
    "            num_dl_workers=2\n",
    "        )"
   ]
  },
  {
   "cell_type": "code",
   "execution_count": 17,
   "id": "64598881",
   "metadata": {},
   "outputs": [
    {
     "name": "stderr",
     "output_type": "stream",
     "text": [
      "GPU available: False, used: False\n",
      "TPU available: False, using: 0 TPU cores\n",
      "IPU available: False, using: 0 IPUs\n",
      "HPU available: False, using: 0 HPUs\n",
      "`Trainer(val_check_interval=1.0)` was configured so validation will run at the end of the training epoch..\n"
     ]
    }
   ],
   "source": [
    "trainer = pl.Trainer(\n",
    "    accelerator=device,\n",
    "    devices=1,\n",
    "    min_epochs=1,\n",
    "    max_epochs=EPOCHS,\n",
    "    gradient_clip_val=0,\n",
    "    check_val_every_n_epoch=1,\n",
    "    val_check_interval=1.0\n",
    ")"
   ]
  },
  {
   "cell_type": "code",
   "execution_count": 18,
   "id": "385c389b",
   "metadata": {
    "scrolled": false
   },
   "outputs": [
    {
     "name": "stderr",
     "output_type": "stream",
     "text": [
      "\n",
      "  | Name  | Type  | Params\n",
      "--------------------------------\n",
      "0 | model | Model | 82.2 K\n",
      "--------------------------------\n",
      "82.2 K    Trainable params\n",
      "0         Non-trainable params\n",
      "82.2 K    Total params\n",
      "0.329     Total estimated model params size (MB)\n"
     ]
    },
    {
     "data": {
      "application/vnd.jupyter.widget-view+json": {
       "model_id": "",
       "version_major": 2,
       "version_minor": 0
      },
      "text/plain": [
       "Sanity Checking: 0it [00:00, ?it/s]"
      ]
     },
     "metadata": {},
     "output_type": "display_data"
    },
    {
     "data": {
      "application/vnd.jupyter.widget-view+json": {
       "model_id": "e1e791370ff9412e8ce5b8762adc4f60",
       "version_major": 2,
       "version_minor": 0
      },
      "text/plain": [
       "Training: 0it [00:00, ?it/s]"
      ]
     },
     "metadata": {},
     "output_type": "display_data"
    },
    {
     "data": {
      "application/vnd.jupyter.widget-view+json": {
       "model_id": "",
       "version_major": 2,
       "version_minor": 0
      },
      "text/plain": [
       "Validation: 0it [00:00, ?it/s]"
      ]
     },
     "metadata": {},
     "output_type": "display_data"
    },
    {
     "data": {
      "application/vnd.jupyter.widget-view+json": {
       "model_id": "",
       "version_major": 2,
       "version_minor": 0
      },
      "text/plain": [
       "Validation: 0it [00:00, ?it/s]"
      ]
     },
     "metadata": {},
     "output_type": "display_data"
    },
    {
     "data": {
      "application/vnd.jupyter.widget-view+json": {
       "model_id": "",
       "version_major": 2,
       "version_minor": 0
      },
      "text/plain": [
       "Validation: 0it [00:00, ?it/s]"
      ]
     },
     "metadata": {},
     "output_type": "display_data"
    },
    {
     "data": {
      "application/vnd.jupyter.widget-view+json": {
       "model_id": "",
       "version_major": 2,
       "version_minor": 0
      },
      "text/plain": [
       "Validation: 0it [00:00, ?it/s]"
      ]
     },
     "metadata": {},
     "output_type": "display_data"
    },
    {
     "data": {
      "application/vnd.jupyter.widget-view+json": {
       "model_id": "",
       "version_major": 2,
       "version_minor": 0
      },
      "text/plain": [
       "Validation: 0it [00:00, ?it/s]"
      ]
     },
     "metadata": {},
     "output_type": "display_data"
    },
    {
     "data": {
      "application/vnd.jupyter.widget-view+json": {
       "model_id": "",
       "version_major": 2,
       "version_minor": 0
      },
      "text/plain": [
       "Validation: 0it [00:00, ?it/s]"
      ]
     },
     "metadata": {},
     "output_type": "display_data"
    },
    {
     "data": {
      "application/vnd.jupyter.widget-view+json": {
       "model_id": "",
       "version_major": 2,
       "version_minor": 0
      },
      "text/plain": [
       "Validation: 0it [00:00, ?it/s]"
      ]
     },
     "metadata": {},
     "output_type": "display_data"
    },
    {
     "data": {
      "application/vnd.jupyter.widget-view+json": {
       "model_id": "",
       "version_major": 2,
       "version_minor": 0
      },
      "text/plain": [
       "Validation: 0it [00:00, ?it/s]"
      ]
     },
     "metadata": {},
     "output_type": "display_data"
    },
    {
     "data": {
      "application/vnd.jupyter.widget-view+json": {
       "model_id": "",
       "version_major": 2,
       "version_minor": 0
      },
      "text/plain": [
       "Validation: 0it [00:00, ?it/s]"
      ]
     },
     "metadata": {},
     "output_type": "display_data"
    },
    {
     "data": {
      "application/vnd.jupyter.widget-view+json": {
       "model_id": "",
       "version_major": 2,
       "version_minor": 0
      },
      "text/plain": [
       "Validation: 0it [00:00, ?it/s]"
      ]
     },
     "metadata": {},
     "output_type": "display_data"
    },
    {
     "data": {
      "application/vnd.jupyter.widget-view+json": {
       "model_id": "",
       "version_major": 2,
       "version_minor": 0
      },
      "text/plain": [
       "Validation: 0it [00:00, ?it/s]"
      ]
     },
     "metadata": {},
     "output_type": "display_data"
    },
    {
     "data": {
      "application/vnd.jupyter.widget-view+json": {
       "model_id": "",
       "version_major": 2,
       "version_minor": 0
      },
      "text/plain": [
       "Validation: 0it [00:00, ?it/s]"
      ]
     },
     "metadata": {},
     "output_type": "display_data"
    }
   ],
   "source": [
    "# Run training\n",
    "trainer.fit(train_loop)"
   ]
  },
  {
   "cell_type": "markdown",
   "id": "3ede33e0",
   "metadata": {},
   "source": [
    "# Inference"
   ]
  },
  {
   "cell_type": "code",
   "execution_count": 11,
   "id": "31a4eda8",
   "metadata": {},
   "outputs": [
    {
     "name": "stderr",
     "output_type": "stream",
     "text": [
      "Restoring states from the checkpoint path at c:\\Users\\nva\\Documents\\Teaching\\external\\ml_kursus\\notebooks\\lightning_logs\\version_5\\checkpoints\\epoch=19-step=11040.ckpt\n",
      "Loaded model weights from checkpoint at c:\\Users\\nva\\Documents\\Teaching\\external\\ml_kursus\\notebooks\\lightning_logs\\version_5\\checkpoints\\epoch=19-step=11040.ckpt\n",
      "c:\\Users\\nva\\Documents\\Teaching\\external\\ml_kursus\\venv\\lib\\site-packages\\pytorch_lightning\\trainer\\connectors\\data_connector.py:224: PossibleUserWarning: The dataloader, test_dataloader 0, does not have many workers which may be a bottleneck. Consider increasing the value of the `num_workers` argument` (try 8 which is the number of cpus on this machine) in the `DataLoader` init to improve performance.\n",
      "  rank_zero_warn(\n"
     ]
    },
    {
     "data": {
      "application/vnd.jupyter.widget-view+json": {
       "model_id": "bb84d46652e149a2aa71a4054c6f0700",
       "version_major": 2,
       "version_minor": 0
      },
      "text/plain": [
       "Testing: 0it [00:00, ?it/s]"
      ]
     },
     "metadata": {},
     "output_type": "display_data"
    },
    {
     "data": {
      "text/plain": [
       "[{}]"
      ]
     },
     "execution_count": 11,
     "metadata": {},
     "output_type": "execute_result"
    }
   ],
   "source": [
    "# Run predictions\n",
    "trainer.test(ckpt_path='best')"
   ]
  },
  {
   "cell_type": "code",
   "execution_count": 12,
   "id": "861cd29c",
   "metadata": {},
   "outputs": [],
   "source": [
    "predictions, values = train_loop.predictions, train_loop.values\n",
    "#predictions = [tensor.cpu() for tensor in predictions]\n",
    "#values = [tensor.cpu() for tensor in values]\n",
    "\n",
    "preds = np.concatenate(predictions, axis=0)\n",
    "vals = np.concatenate(values, axis=0)\n",
    "\n",
    "scaler = pickle.load(open('../data/scaler.pkl', 'rb'))\n",
    "\n",
    "preds = scaler.inverse_transform(preds)\n",
    "vals = scaler.inverse_transform(vals)"
   ]
  },
  {
   "cell_type": "code",
   "execution_count": 13,
   "id": "e50117b1",
   "metadata": {},
   "outputs": [],
   "source": [
    "target_cols = [f'load+{h}' for h in range(1, 25)]\n",
    "test_index = pd.date_range(\"2021-09-11 14:00:00\", \"2022-05-14 23:00:00\", freq='h')\n",
    "\n",
    "df_preds = pd.DataFrame(preds, columns=target_cols, index=test_index[:len(vals)])\n",
    "df_vals = pd.DataFrame(vals, columns=target_cols, index=test_index[:len(vals)])"
   ]
  },
  {
   "cell_type": "code",
   "execution_count": 14,
   "id": "000c71ee",
   "metadata": {},
   "outputs": [
    {
     "name": "stdout",
     "output_type": "stream",
     "text": [
      "TEST PERFORMANCE\n",
      "RMSE:\t 23.028133269438058\n",
      "MAE:\t 18.346853\n",
      "MAPE:\t 22.918565571308136\n",
      "R^2:\t 0.4558931746670866\n"
     ]
    }
   ],
   "source": [
    "print('TEST PERFORMANCE')\n",
    "print('RMSE:\\t', mean_squared_error(df_vals, df_preds)**0.5)\n",
    "print('MAE:\\t', mean_absolute_error(df_vals, df_preds))\n",
    "print('MAPE:\\t',mean_absolute_percentage_error(df_vals, df_preds) * 100)\n",
    "print('R^2:\\t', r2_score(df_vals, df_preds))"
   ]
  },
  {
   "cell_type": "code",
   "execution_count": 17,
   "id": "87633e16",
   "metadata": {},
   "outputs": [
    {
     "data": {
      "image/png": "[encoded data removed]",
      "text/plain": [
       "<Figure size 640x480 with 1 Axes>"
      ]
     },
     "metadata": {},
     "output_type": "display_data"
    }
   ],
   "source": [
    "forecast_time = '2021-12-31 23:00:00'\n",
    "plt.plot(df_preds.loc[forecast_time], label='Prediction')\n",
    "plt.plot(df_vals.loc[forecast_time], label='True')\n",
    "plt.legend()\n",
    "plt.grid()\n",
    "plt.title(f\"Forecast at: {forecast_time}\")\n",
    "plt.xticks(rotation=90)\n",
    "plt.show()"
   ]
  },
  {
   "cell_type": "code",
   "execution_count": null,
   "id": "45229478",
   "metadata": {},
   "outputs": [],
   "source": []
  }
 ],
 "metadata": {
  "kernelspec": {
   "display_name": "Python 3 (ipykernel)",
   "language": "python",
   "name": "python3"
  },
  "language_info": {
   "codemirror_mode": {
    "name": "ipython",
    "version": 3
   },
   "file_extension": ".py",
   "mimetype": "text/x-python",
   "name": "python",
   "nbconvert_exporter": "python",
   "pygments_lexer": "ipython3",
   "version": "3.10.8"
  }
 },
 "nbformat": 4,
 "nbformat_minor": 5
}

{
 "cells": [
  {
   "cell_type": "code",
   "execution_count": null,
   "metadata": {},
   "outputs": [],
   "source": [
    "import numpy as np\n",
    "import pytorch_lightning as pl\n",
    "import torch\n",
    "import wandb\n",
    "import yaml\n",
    "import pickle\n",
    "from pytorch_lightning.callbacks import EarlyStopping\n",
    "from sklearn.metrics import (mean_absolute_error,\n",
    "                             mean_absolute_percentage_error,\n",
    "                             mean_squared_error, r2_score)\n",
    "\n",
    "from src.models import get_model\n",
    "from src.model_training import TrainingLoop"
   ]
  },
  {
   "cell_type": "code",
   "execution_count": null,
   "metadata": {},
   "outputs": [],
   "source": [
    "DEVICE = \"cuda\" if torch.cuda.is_available() else \"cpu\"\n",
    "PROJECT_NAME = \"machine-learning-course-test\""
   ]
  },
  {
   "cell_type": "code",
   "execution_count": null,
   "metadata": {},
   "outputs": [],
   "source": [
    "def init_params():\n",
    "    with open(\"../experiments/configs/config_defaults.yaml\", \"r\") as f:\n",
    "        try:\n",
    "            yaml_file = yaml.safe_load(f)\n",
    "            defaults = dict(yaml_file)\n",
    "            return defaults\n",
    "        except yaml.YAMLError as exc:\n",
    "            print(exc)\n",
    "\n",
    "\n",
    "def load_data():\n",
    "    train = torch.load(\"../data/train.pt\")\n",
    "    val = torch.load(\"../data/val.pt\")\n",
    "    test = torch.load(\"../data/test.pt\")\n",
    "\n",
    "    return train, val, test"
   ]
  },
  {
   "cell_type": "code",
   "execution_count": null,
   "metadata": {},
   "outputs": [],
   "source": [
    "def tuning():\n",
    "\n",
    "    wandb.init(config=init_params(), project=PROJECT_NAME, allow_val_change=True)\n",
    "    params = wandb.config\n",
    "\n",
    "    train, val, test = load_data()\n",
    "\n",
    "    # Non-tunable parameters\n",
    "    input_size = next(iter(train))[0].shape[0]\n",
    "\n",
    "    model = get_model(params['model'])\n",
    "    model = model(input_size=input_size, device=DEVICE, **params)\n",
    "    print(model)\n",
    "\n",
    "    early_stopping = EarlyStopping(\n",
    "        monitor='val_loss',\n",
    "        patience=6,\n",
    "        mode='min'\n",
    "    )\n",
    "\n",
    "    loop = TrainingLoop(\n",
    "        model=model,\n",
    "        datasets=(train, val, test),\n",
    "        learning_rate=params['lr'],\n",
    "        batch_size=params['batch_size'],\n",
    "        optimizer=params['optimizer'],\n",
    "        accelerator=DEVICE,\n",
    "        train_shuffle=params['train_dl_shuffle'],\n",
    "        track_wandb=True,\n",
    "        num_dl_workers=0\n",
    "    )\n",
    "\n",
    "    trainer = pl.Trainer(\n",
    "        accelerator='cpu',\n",
    "        devices=1,\n",
    "        min_epochs=1,\n",
    "        max_epochs=params['epochs'],\n",
    "        callbacks=[early_stopping],\n",
    "        log_every_n_steps=1\n",
    "    )\n",
    "\n",
    "    trainer.fit(loop)\n",
    "    trainer.test(ckpt_path='best')\n",
    "\n",
    "    predictions, labels = loop.predictions, loop.values\n",
    "    if DEVICE == 'cuda':\n",
    "        predictions = [tensor.cpu() for tensor in predictions]\n",
    "        labels = [tensor.cpu() for tensor in labels]\n",
    "    \n",
    "    scaler = pickle.load(open('../data/scaler.pkl', 'rb'))\n",
    "    labels = scaler.inverse_transform((np.concatenate(labels, axis=0)))\n",
    "    predictions = scaler.inverse_transform((np.concatenate(predictions, axis=0)))\n",
    "\n",
    "    mae = mean_absolute_error(labels, predictions)\n",
    "    rmse = mean_squared_error(labels, predictions)**0.5\n",
    "    r2 = r2_score(labels, predictions)\n",
    "    mape = mean_absolute_percentage_error(labels, predictions) * 100\n",
    "    \n",
    "    wandb.log({\n",
    "        'pred_mae': mae,\n",
    "        'pred_rmse': rmse,\n",
    "        'pred_r2': r2,\n",
    "        'pred_mape': mape\n",
    "    })\n"
   ]
  },
  {
   "cell_type": "code",
   "execution_count": null,
   "metadata": {},
   "outputs": [],
   "source": [
    "with open(\"../experiments/configs/random_tuning_sweep.yaml\", \"r\", encoding='utf-8') as f:\n",
    "    file = yaml.safe_load(f)\n",
    "    sweep_config = dict(file)\n",
    "\n",
    "sweep_id = wandb.sweep(sweep_config, project=PROJECT_NAME)\n",
    "\n",
    "wandb.agent(sweep_id, function=tuning, count=5)\n",
    "\n",
    "wandb.finish()"
   ]
  },
  {
   "cell_type": "code",
   "execution_count": null,
   "metadata": {},
   "outputs": [],
   "source": []
  }
 ],
 "metadata": {
  "kernelspec": {
   "display_name": "venv",
   "language": "python",
   "name": "python3"
  },
  "language_info": {
   "codemirror_mode": {
    "name": "ipython",
    "version": 3
   },
   "file_extension": ".py",
   "mimetype": "text/x-python",
   "name": "python",
   "nbconvert_exporter": "python",
   "pygments_lexer": "ipython3",
   "version": "3.10.9"
  },
  "orig_nbformat": 4
 },
 "nbformat": 4,
 "nbformat_minor": 2
}

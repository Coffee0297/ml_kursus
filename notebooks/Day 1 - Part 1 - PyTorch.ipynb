{
 "cells": [
  {
   "cell_type": "markdown",
   "id": "ab5504b7",
   "metadata": {},
   "source": [
    "# Setup"
   ]
  },
  {
   "cell_type": "code",
   "execution_count": 1,
   "id": "5470ab17",
   "metadata": {},
   "outputs": [],
   "source": [
    "import numpy as np\n",
    "import pandas as pd\n",
    "import matplotlib.pyplot as plt\n",
    "\n",
    "# Scikit-Learn\n",
    "from sklearn.preprocessing import StandardScaler\n",
    "from sklearn.model_selection import train_test_split\n",
    "from sklearn.metrics import mean_absolute_error, mean_squared_error, r2_score, mean_absolute_percentage_error\n",
    "\n",
    "# PyTorch\n",
    "import torch\n",
    "import torch.nn as nn\n",
    "from torch.nn import functional as F\n",
    "from torch.utils.data import TensorDataset, DataLoader\n",
    "import torch.optim as optim\n",
    "\n",
    "# From src\n",
    "from src.prepare_data import TSDataset\n",
    "from src.inference import format_predictions, calculate_metrics\n",
    "from src.models import GatedRecurrentUnit"
   ]
  },
  {
   "cell_type": "code",
   "execution_count": 2,
   "id": "029b0720",
   "metadata": {},
   "outputs": [
    {
     "name": "stdout",
     "output_type": "stream",
     "text": [
      "cpu is available.\n"
     ]
    }
   ],
   "source": [
    "device = \"cuda\" if torch.cuda.is_available() else \"cpu\"\n",
    "print(f\"{device} is available.\")"
   ]
  },
  {
   "cell_type": "code",
   "execution_count": 3,
   "id": "f10a3dab",
   "metadata": {},
   "outputs": [],
   "source": [
    "# Seed\n",
    "seed = 77\n",
    "torch.manual_seed(seed)\n",
    "torch.cuda.manual_seed(seed)\n",
    "torch.cuda.manual_seed_all(seed)\n",
    "np.random.seed(seed)"
   ]
  },
  {
   "cell_type": "code",
   "execution_count": 4,
   "id": "bee8c62d",
   "metadata": {},
   "outputs": [],
   "source": [
    "# Config\n",
    "AVAIL_GPUS = min(1, torch.cuda.device_count())\n",
    "BATCH_SIZE = 256 if AVAIL_GPUS else 32\n",
    "EPOCHS = 20"
   ]
  },
  {
   "cell_type": "markdown",
   "id": "f1185ed6",
   "metadata": {},
   "source": [
    "# Data"
   ]
  },
  {
   "cell_type": "code",
   "execution_count": 5,
   "id": "70c720f4",
   "metadata": {},
   "outputs": [],
   "source": [
    "# Load data\n",
    "load_data = pd.read_csv('../data/electricity_load_data.csv', index_col=['datetime'], parse_dates=True)"
   ]
  },
  {
   "cell_type": "code",
   "execution_count": 6,
   "id": "b358781a",
   "metadata": {},
   "outputs": [
    {
     "data": {
      "text/html": [
       "<div>\n",
       "<style scoped>\n",
       "    .dataframe tbody tr th:only-of-type {\n",
       "        vertical-align: middle;\n",
       "    }\n",
       "\n",
       "    .dataframe tbody tr th {\n",
       "        vertical-align: top;\n",
       "    }\n",
       "\n",
       "    .dataframe thead th {\n",
       "        text-align: right;\n",
       "    }\n",
       "</style>\n",
       "<table border=\"1\" class=\"dataframe\">\n",
       "  <thead>\n",
       "    <tr style=\"text-align: right;\">\n",
       "      <th></th>\n",
       "      <th>load</th>\n",
       "    </tr>\n",
       "    <tr>\n",
       "      <th>datetime</th>\n",
       "      <th></th>\n",
       "    </tr>\n",
       "  </thead>\n",
       "  <tbody>\n",
       "    <tr>\n",
       "      <th>2019-01-01 00:00:00</th>\n",
       "      <td>112.01</td>\n",
       "    </tr>\n",
       "    <tr>\n",
       "      <th>2019-01-01 01:00:00</th>\n",
       "      <td>92.44</td>\n",
       "    </tr>\n",
       "    <tr>\n",
       "      <th>2019-01-01 02:00:00</th>\n",
       "      <td>84.52</td>\n",
       "    </tr>\n",
       "    <tr>\n",
       "      <th>2019-01-01 03:00:00</th>\n",
       "      <td>75.36</td>\n",
       "    </tr>\n",
       "    <tr>\n",
       "      <th>2019-01-01 04:00:00</th>\n",
       "      <td>63.64</td>\n",
       "    </tr>\n",
       "    <tr>\n",
       "      <th>...</th>\n",
       "      <td>...</td>\n",
       "    </tr>\n",
       "    <tr>\n",
       "      <th>2022-05-15 19:00:00</th>\n",
       "      <td>93.25</td>\n",
       "    </tr>\n",
       "    <tr>\n",
       "      <th>2022-05-15 20:00:00</th>\n",
       "      <td>80.74</td>\n",
       "    </tr>\n",
       "    <tr>\n",
       "      <th>2022-05-15 21:00:00</th>\n",
       "      <td>78.99</td>\n",
       "    </tr>\n",
       "    <tr>\n",
       "      <th>2022-05-15 22:00:00</th>\n",
       "      <td>70.22</td>\n",
       "    </tr>\n",
       "    <tr>\n",
       "      <th>2022-05-15 23:00:00</th>\n",
       "      <td>56.03</td>\n",
       "    </tr>\n",
       "  </tbody>\n",
       "</table>\n",
       "<p>29544 rows × 1 columns</p>\n",
       "</div>"
      ],
      "text/plain": [
       "                       load\n",
       "datetime                   \n",
       "2019-01-01 00:00:00  112.01\n",
       "2019-01-01 01:00:00   92.44\n",
       "2019-01-01 02:00:00   84.52\n",
       "2019-01-01 03:00:00   75.36\n",
       "2019-01-01 04:00:00   63.64\n",
       "...                     ...\n",
       "2022-05-15 19:00:00   93.25\n",
       "2022-05-15 20:00:00   80.74\n",
       "2022-05-15 21:00:00   78.99\n",
       "2022-05-15 22:00:00   70.22\n",
       "2022-05-15 23:00:00   56.03\n",
       "\n",
       "[29544 rows x 1 columns]"
      ]
     },
     "execution_count": 6,
     "metadata": {},
     "output_type": "execute_result"
    }
   ],
   "source": [
    "load_data"
   ]
  },
  {
   "cell_type": "code",
   "execution_count": 7,
   "id": "e039806d",
   "metadata": {
    "scrolled": false
   },
   "outputs": [
    {
     "data": {
      "text/plain": [
       "<AxesSubplot: xlabel='datetime'>"
      ]
     },
     "execution_count": 7,
     "metadata": {},
     "output_type": "execute_result"
    },
    {
     "data": {
      "image/png": "[encoded data removed]",
      "text/plain": [
       "<Figure size 640x480 with 1 Axes>"
      ]
     },
     "metadata": {},
     "output_type": "display_data"
    }
   ],
   "source": [
    "load_data.iloc[:24].plot()"
   ]
  },
  {
   "cell_type": "code",
   "execution_count": 8,
   "id": "b0ad47d7",
   "metadata": {},
   "outputs": [],
   "source": [
    "# Generate target and input variables\n",
    "dataset = TSDataset(dataframe=load_data, target_variable='load')\n",
    "X, y = dataset.to_supervised(n_lags=23, horizon=1)"
   ]
  },
  {
   "cell_type": "code",
   "execution_count": 9,
   "id": "ec378f8d",
   "metadata": {},
   "outputs": [
    {
     "data": {
      "text/html": [
       "<div>\n",
       "<style scoped>\n",
       "    .dataframe tbody tr th:only-of-type {\n",
       "        vertical-align: middle;\n",
       "    }\n",
       "\n",
       "    .dataframe tbody tr th {\n",
       "        vertical-align: top;\n",
       "    }\n",
       "\n",
       "    .dataframe thead th {\n",
       "        text-align: right;\n",
       "    }\n",
       "</style>\n",
       "<table border=\"1\" class=\"dataframe\">\n",
       "  <thead>\n",
       "    <tr style=\"text-align: right;\">\n",
       "      <th></th>\n",
       "      <th>load</th>\n",
       "      <th>load-1</th>\n",
       "      <th>load-2</th>\n",
       "      <th>load-3</th>\n",
       "      <th>load-4</th>\n",
       "      <th>load-5</th>\n",
       "      <th>load-6</th>\n",
       "      <th>load-7</th>\n",
       "      <th>load-8</th>\n",
       "      <th>load-9</th>\n",
       "      <th>...</th>\n",
       "      <th>load-14</th>\n",
       "      <th>load-15</th>\n",
       "      <th>load-16</th>\n",
       "      <th>load-17</th>\n",
       "      <th>load-18</th>\n",
       "      <th>load-19</th>\n",
       "      <th>load-20</th>\n",
       "      <th>load-21</th>\n",
       "      <th>load-22</th>\n",
       "      <th>load-23</th>\n",
       "    </tr>\n",
       "    <tr>\n",
       "      <th>datetime</th>\n",
       "      <th></th>\n",
       "      <th></th>\n",
       "      <th></th>\n",
       "      <th></th>\n",
       "      <th></th>\n",
       "      <th></th>\n",
       "      <th></th>\n",
       "      <th></th>\n",
       "      <th></th>\n",
       "      <th></th>\n",
       "      <th></th>\n",
       "      <th></th>\n",
       "      <th></th>\n",
       "      <th></th>\n",
       "      <th></th>\n",
       "      <th></th>\n",
       "      <th></th>\n",
       "      <th></th>\n",
       "      <th></th>\n",
       "      <th></th>\n",
       "      <th></th>\n",
       "    </tr>\n",
       "  </thead>\n",
       "  <tbody>\n",
       "    <tr>\n",
       "      <th>2019-01-01 23:00:00</th>\n",
       "      <td>73.96</td>\n",
       "      <td>91.42</td>\n",
       "      <td>114.38</td>\n",
       "      <td>135.19</td>\n",
       "      <td>154.26</td>\n",
       "      <td>176.40</td>\n",
       "      <td>185.08</td>\n",
       "      <td>146.50</td>\n",
       "      <td>124.94</td>\n",
       "      <td>133.26</td>\n",
       "      <td>...</td>\n",
       "      <td>93.66</td>\n",
       "      <td>67.60</td>\n",
       "      <td>60.33</td>\n",
       "      <td>57.83</td>\n",
       "      <td>56.20</td>\n",
       "      <td>63.64</td>\n",
       "      <td>75.36</td>\n",
       "      <td>84.52</td>\n",
       "      <td>92.44</td>\n",
       "      <td>112.01</td>\n",
       "    </tr>\n",
       "    <tr>\n",
       "      <th>2019-01-02 00:00:00</th>\n",
       "      <td>61.68</td>\n",
       "      <td>73.96</td>\n",
       "      <td>91.42</td>\n",
       "      <td>114.38</td>\n",
       "      <td>135.19</td>\n",
       "      <td>154.26</td>\n",
       "      <td>176.40</td>\n",
       "      <td>185.08</td>\n",
       "      <td>146.50</td>\n",
       "      <td>124.94</td>\n",
       "      <td>...</td>\n",
       "      <td>124.95</td>\n",
       "      <td>93.66</td>\n",
       "      <td>67.60</td>\n",
       "      <td>60.33</td>\n",
       "      <td>57.83</td>\n",
       "      <td>56.20</td>\n",
       "      <td>63.64</td>\n",
       "      <td>75.36</td>\n",
       "      <td>84.52</td>\n",
       "      <td>92.44</td>\n",
       "    </tr>\n",
       "    <tr>\n",
       "      <th>2019-01-02 01:00:00</th>\n",
       "      <td>54.35</td>\n",
       "      <td>61.68</td>\n",
       "      <td>73.96</td>\n",
       "      <td>91.42</td>\n",
       "      <td>114.38</td>\n",
       "      <td>135.19</td>\n",
       "      <td>154.26</td>\n",
       "      <td>176.40</td>\n",
       "      <td>185.08</td>\n",
       "      <td>146.50</td>\n",
       "      <td>...</td>\n",
       "      <td>115.74</td>\n",
       "      <td>124.95</td>\n",
       "      <td>93.66</td>\n",
       "      <td>67.60</td>\n",
       "      <td>60.33</td>\n",
       "      <td>57.83</td>\n",
       "      <td>56.20</td>\n",
       "      <td>63.64</td>\n",
       "      <td>75.36</td>\n",
       "      <td>84.52</td>\n",
       "    </tr>\n",
       "    <tr>\n",
       "      <th>2019-01-02 02:00:00</th>\n",
       "      <td>51.65</td>\n",
       "      <td>54.35</td>\n",
       "      <td>61.68</td>\n",
       "      <td>73.96</td>\n",
       "      <td>91.42</td>\n",
       "      <td>114.38</td>\n",
       "      <td>135.19</td>\n",
       "      <td>154.26</td>\n",
       "      <td>176.40</td>\n",
       "      <td>185.08</td>\n",
       "      <td>...</td>\n",
       "      <td>127.97</td>\n",
       "      <td>115.74</td>\n",
       "      <td>124.95</td>\n",
       "      <td>93.66</td>\n",
       "      <td>67.60</td>\n",
       "      <td>60.33</td>\n",
       "      <td>57.83</td>\n",
       "      <td>56.20</td>\n",
       "      <td>63.64</td>\n",
       "      <td>75.36</td>\n",
       "    </tr>\n",
       "    <tr>\n",
       "      <th>2019-01-02 03:00:00</th>\n",
       "      <td>49.20</td>\n",
       "      <td>51.65</td>\n",
       "      <td>54.35</td>\n",
       "      <td>61.68</td>\n",
       "      <td>73.96</td>\n",
       "      <td>91.42</td>\n",
       "      <td>114.38</td>\n",
       "      <td>135.19</td>\n",
       "      <td>154.26</td>\n",
       "      <td>176.40</td>\n",
       "      <td>...</td>\n",
       "      <td>122.67</td>\n",
       "      <td>127.97</td>\n",
       "      <td>115.74</td>\n",
       "      <td>124.95</td>\n",
       "      <td>93.66</td>\n",
       "      <td>67.60</td>\n",
       "      <td>60.33</td>\n",
       "      <td>57.83</td>\n",
       "      <td>56.20</td>\n",
       "      <td>63.64</td>\n",
       "    </tr>\n",
       "  </tbody>\n",
       "</table>\n",
       "<p>5 rows × 24 columns</p>\n",
       "</div>"
      ],
      "text/plain": [
       "                      load  load-1  load-2  load-3  load-4  load-5  load-6  \\\n",
       "datetime                                                                     \n",
       "2019-01-01 23:00:00  73.96   91.42  114.38  135.19  154.26  176.40  185.08   \n",
       "2019-01-02 00:00:00  61.68   73.96   91.42  114.38  135.19  154.26  176.40   \n",
       "2019-01-02 01:00:00  54.35   61.68   73.96   91.42  114.38  135.19  154.26   \n",
       "2019-01-02 02:00:00  51.65   54.35   61.68   73.96   91.42  114.38  135.19   \n",
       "2019-01-02 03:00:00  49.20   51.65   54.35   61.68   73.96   91.42  114.38   \n",
       "\n",
       "                     load-7  load-8  load-9  ...  load-14  load-15  load-16  \\\n",
       "datetime                                     ...                              \n",
       "2019-01-01 23:00:00  146.50  124.94  133.26  ...    93.66    67.60    60.33   \n",
       "2019-01-02 00:00:00  185.08  146.50  124.94  ...   124.95    93.66    67.60   \n",
       "2019-01-02 01:00:00  176.40  185.08  146.50  ...   115.74   124.95    93.66   \n",
       "2019-01-02 02:00:00  154.26  176.40  185.08  ...   127.97   115.74   124.95   \n",
       "2019-01-02 03:00:00  135.19  154.26  176.40  ...   122.67   127.97   115.74   \n",
       "\n",
       "                     load-17  load-18  load-19  load-20  load-21  load-22  \\\n",
       "datetime                                                                    \n",
       "2019-01-01 23:00:00    57.83    56.20    63.64    75.36    84.52    92.44   \n",
       "2019-01-02 00:00:00    60.33    57.83    56.20    63.64    75.36    84.52   \n",
       "2019-01-02 01:00:00    67.60    60.33    57.83    56.20    63.64    75.36   \n",
       "2019-01-02 02:00:00    93.66    67.60    60.33    57.83    56.20    63.64   \n",
       "2019-01-02 03:00:00   124.95    93.66    67.60    60.33    57.83    56.20   \n",
       "\n",
       "                     load-23  \n",
       "datetime                      \n",
       "2019-01-01 23:00:00   112.01  \n",
       "2019-01-02 00:00:00    92.44  \n",
       "2019-01-02 01:00:00    84.52  \n",
       "2019-01-02 02:00:00    75.36  \n",
       "2019-01-02 03:00:00    63.64  \n",
       "\n",
       "[5 rows x 24 columns]"
      ]
     },
     "execution_count": 9,
     "metadata": {},
     "output_type": "execute_result"
    }
   ],
   "source": [
    "X.head()"
   ]
  },
  {
   "cell_type": "code",
   "execution_count": 10,
   "id": "69e3589d",
   "metadata": {},
   "outputs": [
    {
     "data": {
      "text/html": [
       "<div>\n",
       "<style scoped>\n",
       "    .dataframe tbody tr th:only-of-type {\n",
       "        vertical-align: middle;\n",
       "    }\n",
       "\n",
       "    .dataframe tbody tr th {\n",
       "        vertical-align: top;\n",
       "    }\n",
       "\n",
       "    .dataframe thead th {\n",
       "        text-align: right;\n",
       "    }\n",
       "</style>\n",
       "<table border=\"1\" class=\"dataframe\">\n",
       "  <thead>\n",
       "    <tr style=\"text-align: right;\">\n",
       "      <th></th>\n",
       "      <th>load+1</th>\n",
       "    </tr>\n",
       "    <tr>\n",
       "      <th>datetime</th>\n",
       "      <th></th>\n",
       "    </tr>\n",
       "  </thead>\n",
       "  <tbody>\n",
       "    <tr>\n",
       "      <th>2019-01-01 23:00:00</th>\n",
       "      <td>61.68</td>\n",
       "    </tr>\n",
       "    <tr>\n",
       "      <th>2019-01-02 00:00:00</th>\n",
       "      <td>54.35</td>\n",
       "    </tr>\n",
       "    <tr>\n",
       "      <th>2019-01-02 01:00:00</th>\n",
       "      <td>51.65</td>\n",
       "    </tr>\n",
       "    <tr>\n",
       "      <th>2019-01-02 02:00:00</th>\n",
       "      <td>49.20</td>\n",
       "    </tr>\n",
       "    <tr>\n",
       "      <th>2019-01-02 03:00:00</th>\n",
       "      <td>50.60</td>\n",
       "    </tr>\n",
       "  </tbody>\n",
       "</table>\n",
       "</div>"
      ],
      "text/plain": [
       "                     load+1\n",
       "datetime                   \n",
       "2019-01-01 23:00:00   61.68\n",
       "2019-01-02 00:00:00   54.35\n",
       "2019-01-02 01:00:00   51.65\n",
       "2019-01-02 02:00:00   49.20\n",
       "2019-01-02 03:00:00   50.60"
      ]
     },
     "execution_count": 10,
     "metadata": {},
     "output_type": "execute_result"
    }
   ],
   "source": [
    "y.head()"
   ]
  },
  {
   "cell_type": "code",
   "execution_count": 11,
   "id": "038e8148",
   "metadata": {},
   "outputs": [
    {
     "name": "stdout",
     "output_type": "stream",
     "text": [
      "Target Variable Shape: (29520, 1)\n",
      "Input Variables Shape: (29520, 24)\n"
     ]
    }
   ],
   "source": [
    "print(f'Target Variable Shape: {y.shape}\\nInput Variables Shape: {X.shape}')"
   ]
  },
  {
   "cell_type": "code",
   "execution_count": 12,
   "id": "52bcc529",
   "metadata": {},
   "outputs": [],
   "source": [
    "test_ratio = 0.2\n",
    "val_ratio = test_ratio / (1-test_ratio)"
   ]
  },
  {
   "cell_type": "code",
   "execution_count": 13,
   "id": "aa355dd5",
   "metadata": {},
   "outputs": [],
   "source": [
    "# Split set once for test\n",
    "X_train, X_test, y_train, y_test = train_test_split(X, y, test_size=test_ratio, shuffle=False)\n",
    "\n",
    "# Split once more for validation\n",
    "X_train, X_val, y_train, y_val = train_test_split(X_train, y_train, test_size=val_ratio, shuffle=False)"
   ]
  },
  {
   "cell_type": "code",
   "execution_count": 14,
   "id": "9097da76",
   "metadata": {},
   "outputs": [
    {
     "name": "stdout",
     "output_type": "stream",
     "text": [
      "Train Data Shape:\t(17712, 24)\t(17712, 1)\n",
      "Validation Data Shape:\t(5904, 24)\t(5904, 1)\n",
      "Test Data Shape:\t(5904, 24)\t(5904, 1)\n"
     ]
    }
   ],
   "source": [
    "# Reshape to 2D\n",
    "y_train = y_train.values.reshape(-1, 1)\n",
    "y_val = y_val.values.reshape(-1, 1)\n",
    "y_test = y_test.values.reshape(-1, 1)\n",
    "\n",
    "\n",
    "print(f'Train Data Shape:\\t{X_train.shape}\\t{y_train.shape}')\n",
    "print(f'Validation Data Shape:\\t{X_val.shape}\\t{y_val.shape}')\n",
    "print(f'Test Data Shape:\\t{X_test.shape}\\t{y_test.shape}')"
   ]
  },
  {
   "cell_type": "code",
   "execution_count": 15,
   "id": "03ea871f",
   "metadata": {},
   "outputs": [],
   "source": [
    "# Scale data\n",
    "scaler = StandardScaler()\n",
    "\n",
    "# Scale X\n",
    "X_train_scl = scaler.fit_transform(X_train)\n",
    "X_val_scl = scaler.transform(X_val)\n",
    "X_test_scl = scaler.transform(X_test)\n",
    "\n",
    "# Scale y\n",
    "y_train_scl = scaler.fit_transform(y_train)\n",
    "y_val_scl = scaler.transform(y_val)\n",
    "y_test_scl = scaler.transform(y_test)"
   ]
  },
  {
   "cell_type": "code",
   "execution_count": 16,
   "id": "6dcb05ba",
   "metadata": {},
   "outputs": [],
   "source": [
    "# Create Tensors out of the data\n",
    "train_features = torch.Tensor(X_train_scl)\n",
    "train_targets = torch.Tensor(y_train_scl)\n",
    "val_features = torch.Tensor(X_val_scl)\n",
    "val_targets = torch.Tensor(y_val_scl)\n",
    "test_features = torch.Tensor(X_test_scl)\n",
    "test_targets = torch.Tensor(y_test_scl)\n",
    "\n",
    "# Torch Tensor Datasets\n",
    "train_ds = TensorDataset(train_features, train_targets)\n",
    "val_ds = TensorDataset(val_features, val_targets)\n",
    "test_ds = TensorDataset(test_features, test_targets)\n",
    "\n",
    "# Torch DataLoaders\n",
    "train = DataLoader(train_ds, batch_size=BATCH_SIZE, shuffle=False, drop_last=True)\n",
    "val = DataLoader(val_ds, batch_size=BATCH_SIZE, shuffle=False, drop_last=True)\n",
    "test = DataLoader(test_ds, batch_size=BATCH_SIZE, shuffle=False, drop_last=True)\n",
    "test_one = DataLoader(test_ds, batch_size=1, shuffle=False, drop_last=True)"
   ]
  },
  {
   "cell_type": "markdown",
   "id": "f37baf4a",
   "metadata": {},
   "source": [
    "# PyTorch Training Loop"
   ]
  },
  {
   "cell_type": "code",
   "execution_count": 17,
   "id": "34a1f06f",
   "metadata": {},
   "outputs": [],
   "source": [
    "class TrainingLoop:\n",
    "    \"\"\"Basic PyTorch Training Loop\"\"\"\n",
    "    \n",
    "    def __init__(self, model, loss_fn, optimizer):\n",
    "        self.model = model\n",
    "        self.loss_fn = loss_fn\n",
    "        self.optimizer = optimizer\n",
    "        self.train_losses = []\n",
    "        self.val_losses = []\n",
    "        \n",
    "        \n",
    "    def train_step(self, x, y):\n",
    "        # Train mode\n",
    "        self.model.train()\n",
    "        \n",
    "        # Predict\n",
    "        y_hat = self.model(x)\n",
    "        \n",
    "        # Compute loss\n",
    "        loss = self.loss_fn(y, y_hat)\n",
    "        \n",
    "        # Compute gradients\n",
    "        loss.backward()\n",
    "        \n",
    "        # Update \n",
    "        self.optimizer.step()\n",
    "        self.optimizer.zero_grad()\n",
    "        \n",
    "        return loss.item()\n",
    "    \n",
    "    \n",
    "    def train(self, train, val, batch_size=BATCH_SIZE, n_epochs=EPOCHS, n_features=1):\n",
    "        #model_path = f'models/{self.model.__class__.__name__ }_{datetime.now().strftime(\"%Y%m%d%H%M%S\")}.pt'\n",
    "\n",
    "        for epoch in range(1, n_epochs + 1):\n",
    "            batch_losses = []\n",
    "            for x_batch, y_batch in train:\n",
    "                x_batch = x_batch.view([batch_size, -1, n_features]).to(device)\n",
    "                y_batch = y_batch.to(device)\n",
    "                loss = self.train_step(x_batch, y_batch)\n",
    "                batch_losses.append(loss)\n",
    "            training_loss = np.mean(batch_losses)\n",
    "            self.train_losses.append(training_loss)\n",
    "            \n",
    "            with torch.no_grad():\n",
    "                batch_val_losses = []\n",
    "                for x_val, y_val in val:\n",
    "                    x_val = x_val.view([batch_size, -1, n_features]).to(device)\n",
    "                    y_val = y_val.to(device)\n",
    "                    self.model.eval()\n",
    "                    y_hat = self.model(x_val)\n",
    "                    val_loss = self.loss_fn(y_val, y_hat).item()\n",
    "                    batch_val_losses.append(val_loss)\n",
    "                validation_loss = np.mean(batch_val_losses)\n",
    "                self.val_losses.append(validation_loss)\n",
    "                \n",
    "            if (epoch <= 50) | (epoch % 100 == 0):\n",
    "                print(\n",
    "                    f'[{epoch} / {n_epochs}] Training Loss: {training_loss:.4f}\\t Validation Loss: {validation_loss:.4f}'\n",
    "                )\n",
    "        \n",
    "        #torch.save(self.model.state_dict(), model_path)\n",
    "\n",
    "    \n",
    "    def evaluate(self, test, batch_size=1, n_features=1):\n",
    "        \n",
    "        with torch.no_grad():\n",
    "            predictions = []\n",
    "            values = []\n",
    "                \n",
    "            for x_test, y_test in test:\n",
    "                x_test = x_test.view([batch_size, -1, n_features]).to(device)\n",
    "                y_test = y_test.to(device)\n",
    "                self.model.eval()\n",
    "                y_hat = self.model(x_test)\n",
    "                predictions.append(y_hat.to(device).detach().numpy())\n",
    "                values.append(y_test.to(device).detach().numpy())\n",
    "        \n",
    "        return predictions, values\n",
    "\n",
    "    \n",
    "    def plot_loss(self):\n",
    "        fig = plt.figure(figsize=(10,6))\n",
    "        x = [ep for ep in range(1, EPOCHS+1)]\n",
    "        plt.plot(x, self.train_losses, label=\"Training Loss\")\n",
    "        plt.plot(x, self.val_losses, label='Validation Loss')\n",
    "        plt.xticks(x)\n",
    "        plt.legend()\n",
    "        plt.title('Training & Validation Losses')\n",
    "        plt.show()\n",
    "        plt.close()"
   ]
  },
  {
   "cell_type": "code",
   "execution_count": 18,
   "id": "00cc1967",
   "metadata": {},
   "outputs": [],
   "source": [
    "# Hyperparameters\n",
    "input_size = len(X_train.columns) # 24\n",
    "output_size = y_train.shape[1] # 1\n",
    "hidden_size = 64\n",
    "num_layers = 1\n",
    "dropout_prob = 0\n",
    "learning_rate = 1e-2\n"
   ]
  },
  {
   "cell_type": "code",
   "execution_count": 19,
   "id": "c111ab08",
   "metadata": {},
   "outputs": [
    {
     "name": "stdout",
     "output_type": "stream",
     "text": [
      "GatedRecurrentUnit(\n",
      "  (gru): GRU(24, 64, batch_first=True)\n",
      "  (output_layer): Linear(in_features=64, out_features=1, bias=True)\n",
      ")\n"
     ]
    }
   ],
   "source": [
    "# Build model\n",
    "model = GatedRecurrentUnit(\n",
    "    hidden_size = hidden_size,\n",
    "    num_rnn_layers = num_layers,\n",
    "    input_size = input_size,\n",
    "    output_size = output_size,\n",
    "    dropout = dropout_prob,\n",
    "    device = device\n",
    "    )\n",
    "\n",
    "\n",
    "print(model)"
   ]
  },
  {
   "cell_type": "code",
   "execution_count": 20,
   "id": "ebbeccec",
   "metadata": {},
   "outputs": [],
   "source": [
    "# Define Loss function and Optimizer\n",
    "loss_fn = nn.MSELoss()\n",
    "optimizer = optim.SGD(model.parameters(), lr=learning_rate)"
   ]
  },
  {
   "cell_type": "code",
   "execution_count": 21,
   "id": "a6de745c",
   "metadata": {},
   "outputs": [
    {
     "name": "stdout",
     "output_type": "stream",
     "text": [
      "[1 / 20] Training Loss: 0.1391\t Validation Loss: 0.0693\n",
      "[2 / 20] Training Loss: 0.0675\t Validation Loss: 0.0579\n",
      "[3 / 20] Training Loss: 0.0578\t Validation Loss: 0.0527\n",
      "[4 / 20] Training Loss: 0.0519\t Validation Loss: 0.0497\n",
      "[5 / 20] Training Loss: 0.0479\t Validation Loss: 0.0479\n",
      "[6 / 20] Training Loss: 0.0452\t Validation Loss: 0.0469\n",
      "[7 / 20] Training Loss: 0.0432\t Validation Loss: 0.0463\n",
      "[8 / 20] Training Loss: 0.0418\t Validation Loss: 0.0460\n",
      "[9 / 20] Training Loss: 0.0407\t Validation Loss: 0.0459\n",
      "[10 / 20] Training Loss: 0.0398\t Validation Loss: 0.0459\n",
      "[11 / 20] Training Loss: 0.0390\t Validation Loss: 0.0459\n",
      "[12 / 20] Training Loss: 0.0384\t Validation Loss: 0.0459\n",
      "[13 / 20] Training Loss: 0.0379\t Validation Loss: 0.0458\n",
      "[14 / 20] Training Loss: 0.0374\t Validation Loss: 0.0457\n",
      "[15 / 20] Training Loss: 0.0370\t Validation Loss: 0.0456\n",
      "[16 / 20] Training Loss: 0.0366\t Validation Loss: 0.0455\n",
      "[17 / 20] Training Loss: 0.0363\t Validation Loss: 0.0453\n",
      "[18 / 20] Training Loss: 0.0360\t Validation Loss: 0.0451\n",
      "[19 / 20] Training Loss: 0.0357\t Validation Loss: 0.0449\n",
      "[20 / 20] Training Loss: 0.0355\t Validation Loss: 0.0447\n"
     ]
    }
   ],
   "source": [
    "# Instantiate TrainingLoop and start training\n",
    "train_loop = TrainingLoop(model=model, loss_fn=loss_fn, optimizer=optimizer)\n",
    "\n",
    "train_loop.train(train, val, batch_size=BATCH_SIZE, n_epochs=EPOCHS, n_features=input_size)"
   ]
  },
  {
   "cell_type": "code",
   "execution_count": 22,
   "id": "33f2dc2e",
   "metadata": {
    "scrolled": false
   },
   "outputs": [
    {
     "data": {
      "image/png": "[encoded data removed]",
      "text/plain": [
       "<Figure size 1000x600 with 1 Axes>"
      ]
     },
     "metadata": {},
     "output_type": "display_data"
    }
   ],
   "source": [
    "# Plot Training and Validation Loss\n",
    "train_loop.plot_loss()"
   ]
  },
  {
   "cell_type": "markdown",
   "id": "34ccb830",
   "metadata": {},
   "source": [
    "# Evaluation"
   ]
  },
  {
   "cell_type": "code",
   "execution_count": 23,
   "id": "b971af5c",
   "metadata": {},
   "outputs": [],
   "source": [
    "# Run predictions using test data\n",
    "predictions, labels = train_loop.evaluate(\n",
    "    test,\n",
    "    batch_size=BATCH_SIZE,\n",
    "    n_features=input_size\n",
    ")"
   ]
  },
  {
   "cell_type": "code",
   "execution_count": 24,
   "id": "edd357a3",
   "metadata": {},
   "outputs": [
    {
     "data": {
      "text/html": [
       "<div>\n",
       "<style scoped>\n",
       "    .dataframe tbody tr th:only-of-type {\n",
       "        vertical-align: middle;\n",
       "    }\n",
       "\n",
       "    .dataframe tbody tr th {\n",
       "        vertical-align: top;\n",
       "    }\n",
       "\n",
       "    .dataframe thead th {\n",
       "        text-align: right;\n",
       "    }\n",
       "</style>\n",
       "<table border=\"1\" class=\"dataframe\">\n",
       "  <thead>\n",
       "    <tr style=\"text-align: right;\">\n",
       "      <th></th>\n",
       "      <th>labels</th>\n",
       "      <th>prediction</th>\n",
       "    </tr>\n",
       "    <tr>\n",
       "      <th>datetime</th>\n",
       "      <th></th>\n",
       "      <th></th>\n",
       "    </tr>\n",
       "  </thead>\n",
       "  <tbody>\n",
       "    <tr>\n",
       "      <th>2021-09-11 23:00:00</th>\n",
       "      <td>51.320000</td>\n",
       "      <td>48.240154</td>\n",
       "    </tr>\n",
       "    <tr>\n",
       "      <th>2021-09-12 00:00:00</th>\n",
       "      <td>45.309998</td>\n",
       "      <td>42.694656</td>\n",
       "    </tr>\n",
       "    <tr>\n",
       "      <th>2021-09-12 01:00:00</th>\n",
       "      <td>44.610001</td>\n",
       "      <td>41.534676</td>\n",
       "    </tr>\n",
       "    <tr>\n",
       "      <th>2021-09-12 02:00:00</th>\n",
       "      <td>45.079998</td>\n",
       "      <td>43.354610</td>\n",
       "    </tr>\n",
       "    <tr>\n",
       "      <th>2021-09-12 03:00:00</th>\n",
       "      <td>46.299999</td>\n",
       "      <td>45.422558</td>\n",
       "    </tr>\n",
       "    <tr>\n",
       "      <th>...</th>\n",
       "      <td>...</td>\n",
       "      <td>...</td>\n",
       "    </tr>\n",
       "    <tr>\n",
       "      <th>2022-05-15 02:00:00</th>\n",
       "      <td>39.610001</td>\n",
       "      <td>42.106163</td>\n",
       "    </tr>\n",
       "    <tr>\n",
       "      <th>2022-05-15 03:00:00</th>\n",
       "      <td>40.270000</td>\n",
       "      <td>43.433544</td>\n",
       "    </tr>\n",
       "    <tr>\n",
       "      <th>2022-05-15 04:00:00</th>\n",
       "      <td>43.659996</td>\n",
       "      <td>50.155724</td>\n",
       "    </tr>\n",
       "    <tr>\n",
       "      <th>2022-05-15 05:00:00</th>\n",
       "      <td>61.540001</td>\n",
       "      <td>61.689846</td>\n",
       "    </tr>\n",
       "    <tr>\n",
       "      <th>2022-05-15 06:00:00</th>\n",
       "      <td>81.919998</td>\n",
       "      <td>78.843719</td>\n",
       "    </tr>\n",
       "  </tbody>\n",
       "</table>\n",
       "<p>5888 rows × 2 columns</p>\n",
       "</div>"
      ],
      "text/plain": [
       "                        labels  prediction\n",
       "datetime                                  \n",
       "2021-09-11 23:00:00  51.320000   48.240154\n",
       "2021-09-12 00:00:00  45.309998   42.694656\n",
       "2021-09-12 01:00:00  44.610001   41.534676\n",
       "2021-09-12 02:00:00  45.079998   43.354610\n",
       "2021-09-12 03:00:00  46.299999   45.422558\n",
       "...                        ...         ...\n",
       "2022-05-15 02:00:00  39.610001   42.106163\n",
       "2022-05-15 03:00:00  40.270000   43.433544\n",
       "2022-05-15 04:00:00  43.659996   50.155724\n",
       "2022-05-15 05:00:00  61.540001   61.689846\n",
       "2022-05-15 06:00:00  81.919998   78.843719\n",
       "\n",
       "[5888 rows x 2 columns]"
      ]
     },
     "execution_count": 24,
     "metadata": {},
     "output_type": "execute_result"
    }
   ],
   "source": [
    "# Values and predictions will be scaled -> must be inversely scaled back\n",
    "df_result = format_predictions(predictions, labels, X_test, scaler)\n",
    "df_result"
   ]
  },
  {
   "cell_type": "code",
   "execution_count": 25,
   "id": "a2fa29b1",
   "metadata": {},
   "outputs": [
    {
     "data": {
      "image/png": "[encoded data removed]",
      "text/plain": [
       "<Figure size 640x480 with 1 Axes>"
      ]
     },
     "metadata": {},
     "output_type": "display_data"
    }
   ],
   "source": [
    "df_result.iloc[:24].plot()\n",
    "plt.show()"
   ]
  },
  {
   "cell_type": "code",
   "execution_count": 26,
   "id": "d691d9b5",
   "metadata": {},
   "outputs": [
    {
     "name": "stdout",
     "output_type": "stream",
     "text": [
      "Mean Absolute Error: 5.3071523\n",
      "Mean Absolute % Error: 6.213662028312683\n",
      "Symmetric Mean Absolute % Error: 6.213662028312683\n",
      "Root Mean Squared Error: 6.980669579074545\n",
      "R^2 Score: 0.9500598096875524\n"
     ]
    }
   ],
   "source": [
    "# Calculate error/performance metrics\n",
    "metrics = calculate_metrics(df_result[\"labels\"], df_result[\"prediction\"])"
   ]
  },
  {
   "cell_type": "code",
   "execution_count": null,
   "id": "2aade5f6",
   "metadata": {},
   "outputs": [],
   "source": []
  }
 ],
 "metadata": {
  "kernelspec": {
   "display_name": "Python 3 (ipykernel)",
   "language": "python",
   "name": "python3"
  },
  "language_info": {
   "codemirror_mode": {
    "name": "ipython",
    "version": 3
   },
   "file_extension": ".py",
   "mimetype": "text/x-python",
   "name": "python",
   "nbconvert_exporter": "python",
   "pygments_lexer": "ipython3",
   "version": "3.10.8"
  }
 },
 "nbformat": 4,
 "nbformat_minor": 5
}
